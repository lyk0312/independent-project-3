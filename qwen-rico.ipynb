{
 "cells": [
  {
   "cell_type": "code",
   "execution_count": 1,
   "metadata": {},
   "outputs": [
    {
     "name": "stdout",
     "output_type": "stream",
     "text": [
      "/hpc2hdd/home/yliu364/Qwen-VL\n",
      "Defaulting to user installation because normal site-packages is not writeable\n",
      "Requirement already satisfied: transformers==4.32.0 in /hpc2hdd/home/yliu364/.local/lib/python3.10/site-packages (from -r requirements.txt (line 1)) (4.32.0)\n",
      "Requirement already satisfied: accelerate in /hpc2hdd/home/yliu364/.local/lib/python3.10/site-packages (from -r requirements.txt (line 2)) (0.29.3)\n",
      "Requirement already satisfied: tiktoken in /hpc2hdd/home/yliu364/.local/lib/python3.10/site-packages (from -r requirements.txt (line 3)) (0.6.0)\n",
      "Requirement already satisfied: einops in /hpc2hdd/home/yliu364/.local/lib/python3.10/site-packages (from -r requirements.txt (line 4)) (0.7.0)\n",
      "Requirement already satisfied: transformers_stream_generator==0.0.4 in /hpc2hdd/home/yliu364/.local/lib/python3.10/site-packages (from -r requirements.txt (line 5)) (0.0.4)\n",
      "Requirement already satisfied: scipy in /apps/miniconda3/envs/pytorch/lib/python3.10/site-packages (from -r requirements.txt (line 6)) (1.11.3)\n",
      "Requirement already satisfied: torchvision in /hpc2hdd/home/yliu364/.local/lib/python3.10/site-packages (from -r requirements.txt (line 7)) (0.15.2)\n",
      "Requirement already satisfied: pillow in /apps/miniconda3/envs/pytorch/lib/python3.10/site-packages (from -r requirements.txt (line 8)) (10.0.1)\n",
      "Requirement already satisfied: tensorboard in /apps/miniconda3/envs/pytorch/lib/python3.10/site-packages (from -r requirements.txt (line 9)) (2.9.0)\n",
      "Requirement already satisfied: matplotlib in /apps/miniconda3/envs/pytorch/lib/python3.10/site-packages (from -r requirements.txt (line 10)) (3.8.1)\n",
      "Requirement already satisfied: filelock in /apps/miniconda3/envs/pytorch/lib/python3.10/site-packages (from transformers==4.32.0->-r requirements.txt (line 1)) (3.13.1)\n",
      "Requirement already satisfied: huggingface-hub<1.0,>=0.15.1 in /hpc2hdd/home/yliu364/.local/lib/python3.10/site-packages (from transformers==4.32.0->-r requirements.txt (line 1)) (0.22.2)\n",
      "Requirement already satisfied: numpy>=1.17 in /apps/miniconda3/envs/pytorch/lib/python3.10/site-packages (from transformers==4.32.0->-r requirements.txt (line 1)) (1.22.4)\n",
      "Requirement already satisfied: packaging>=20.0 in /apps/miniconda3/envs/pytorch/lib/python3.10/site-packages (from transformers==4.32.0->-r requirements.txt (line 1)) (21.3)\n",
      "Requirement already satisfied: pyyaml>=5.1 in /apps/miniconda3/envs/pytorch/lib/python3.10/site-packages (from transformers==4.32.0->-r requirements.txt (line 1)) (6.0.1)\n",
      "Requirement already satisfied: regex!=2019.12.17 in /hpc2hdd/home/yliu364/.local/lib/python3.10/site-packages (from transformers==4.32.0->-r requirements.txt (line 1)) (2024.4.16)\n",
      "Requirement already satisfied: requests in /hpc2hdd/home/yliu364/.local/lib/python3.10/site-packages (from transformers==4.32.0->-r requirements.txt (line 1)) (2.31.0)\n",
      "Requirement already satisfied: tokenizers!=0.11.3,<0.14,>=0.11.1 in /hpc2hdd/home/yliu364/.local/lib/python3.10/site-packages (from transformers==4.32.0->-r requirements.txt (line 1)) (0.13.3)\n",
      "Requirement already satisfied: safetensors>=0.3.1 in /hpc2hdd/home/yliu364/.local/lib/python3.10/site-packages (from transformers==4.32.0->-r requirements.txt (line 1)) (0.4.3)\n",
      "Requirement already satisfied: tqdm>=4.27 in /apps/miniconda3/envs/pytorch/lib/python3.10/site-packages (from transformers==4.32.0->-r requirements.txt (line 1)) (4.66.1)\n",
      "Requirement already satisfied: psutil in /apps/miniconda3/envs/pytorch/lib/python3.10/site-packages (from accelerate->-r requirements.txt (line 2)) (5.9.6)\n",
      "Requirement already satisfied: torch>=1.10.0 in /hpc2hdd/home/yliu364/.local/lib/python3.10/site-packages (from accelerate->-r requirements.txt (line 2)) (2.0.1)\n",
      "Requirement already satisfied: typing-extensions in /hpc2hdd/home/yliu364/.local/lib/python3.10/site-packages (from torch>=1.10.0->accelerate->-r requirements.txt (line 2)) (4.11.0)\n",
      "Requirement already satisfied: sympy in /apps/miniconda3/envs/pytorch/lib/python3.10/site-packages (from torch>=1.10.0->accelerate->-r requirements.txt (line 2)) (1.12)\n",
      "Requirement already satisfied: networkx in /apps/miniconda3/envs/pytorch/lib/python3.10/site-packages (from torch>=1.10.0->accelerate->-r requirements.txt (line 2)) (3.2.1)\n",
      "Requirement already satisfied: jinja2 in /apps/miniconda3/envs/pytorch/lib/python3.10/site-packages (from torch>=1.10.0->accelerate->-r requirements.txt (line 2)) (3.1.2)\n",
      "Requirement already satisfied: nvidia-cuda-nvrtc-cu11==11.7.99 in /hpc2hdd/home/yliu364/.local/lib/python3.10/site-packages (from torch>=1.10.0->accelerate->-r requirements.txt (line 2)) (11.7.99)\n",
      "Requirement already satisfied: nvidia-cuda-runtime-cu11==11.7.99 in /hpc2hdd/home/yliu364/.local/lib/python3.10/site-packages (from torch>=1.10.0->accelerate->-r requirements.txt (line 2)) (11.7.99)\n",
      "Requirement already satisfied: nvidia-cuda-cupti-cu11==11.7.101 in /hpc2hdd/home/yliu364/.local/lib/python3.10/site-packages (from torch>=1.10.0->accelerate->-r requirements.txt (line 2)) (11.7.101)\n",
      "Requirement already satisfied: nvidia-cudnn-cu11==8.5.0.96 in /hpc2hdd/home/yliu364/.local/lib/python3.10/site-packages (from torch>=1.10.0->accelerate->-r requirements.txt (line 2)) (8.5.0.96)\n",
      "Requirement already satisfied: nvidia-cublas-cu11==11.10.3.66 in /hpc2hdd/home/yliu364/.local/lib/python3.10/site-packages (from torch>=1.10.0->accelerate->-r requirements.txt (line 2)) (11.10.3.66)\n",
      "Requirement already satisfied: nvidia-cufft-cu11==10.9.0.58 in /hpc2hdd/home/yliu364/.local/lib/python3.10/site-packages (from torch>=1.10.0->accelerate->-r requirements.txt (line 2)) (10.9.0.58)\n",
      "Requirement already satisfied: nvidia-curand-cu11==10.2.10.91 in /hpc2hdd/home/yliu364/.local/lib/python3.10/site-packages (from torch>=1.10.0->accelerate->-r requirements.txt (line 2)) (10.2.10.91)\n",
      "Requirement already satisfied: nvidia-cusolver-cu11==11.4.0.1 in /hpc2hdd/home/yliu364/.local/lib/python3.10/site-packages (from torch>=1.10.0->accelerate->-r requirements.txt (line 2)) (11.4.0.1)\n",
      "Requirement already satisfied: nvidia-cusparse-cu11==11.7.4.91 in /hpc2hdd/home/yliu364/.local/lib/python3.10/site-packages (from torch>=1.10.0->accelerate->-r requirements.txt (line 2)) (11.7.4.91)\n",
      "Requirement already satisfied: nvidia-nccl-cu11==2.14.3 in /hpc2hdd/home/yliu364/.local/lib/python3.10/site-packages (from torch>=1.10.0->accelerate->-r requirements.txt (line 2)) (2.14.3)\n",
      "Requirement already satisfied: nvidia-nvtx-cu11==11.7.91 in /hpc2hdd/home/yliu364/.local/lib/python3.10/site-packages (from torch>=1.10.0->accelerate->-r requirements.txt (line 2)) (11.7.91)\n",
      "Requirement already satisfied: triton==2.0.0 in /hpc2hdd/home/yliu364/.local/lib/python3.10/site-packages (from torch>=1.10.0->accelerate->-r requirements.txt (line 2)) (2.0.0)\n",
      "Requirement already satisfied: setuptools in /apps/miniconda3/envs/pytorch/lib/python3.10/site-packages (from nvidia-cublas-cu11==11.10.3.66->torch>=1.10.0->accelerate->-r requirements.txt (line 2)) (58.0.4)\n",
      "Requirement already satisfied: wheel in /apps/miniconda3/envs/pytorch/lib/python3.10/site-packages (from nvidia-cublas-cu11==11.10.3.66->torch>=1.10.0->accelerate->-r requirements.txt (line 2)) (0.41.2)\n",
      "Requirement already satisfied: cmake in /hpc2hdd/home/yliu364/.local/lib/python3.10/site-packages (from triton==2.0.0->torch>=1.10.0->accelerate->-r requirements.txt (line 2)) (3.29.2)\n",
      "Requirement already satisfied: lit in /hpc2hdd/home/yliu364/.local/lib/python3.10/site-packages (from triton==2.0.0->torch>=1.10.0->accelerate->-r requirements.txt (line 2)) (18.1.4)\n",
      "Requirement already satisfied: absl-py>=0.4 in /apps/miniconda3/envs/pytorch/lib/python3.10/site-packages (from tensorboard->-r requirements.txt (line 9)) (2.0.0)\n",
      "Requirement already satisfied: grpcio>=1.24.3 in /apps/miniconda3/envs/pytorch/lib/python3.10/site-packages (from tensorboard->-r requirements.txt (line 9)) (1.59.2)\n",
      "Requirement already satisfied: google-auth<3,>=1.6.3 in /apps/miniconda3/envs/pytorch/lib/python3.10/site-packages (from tensorboard->-r requirements.txt (line 9)) (2.23.4)\n",
      "Requirement already satisfied: google-auth-oauthlib<0.5,>=0.4.1 in /apps/miniconda3/envs/pytorch/lib/python3.10/site-packages (from tensorboard->-r requirements.txt (line 9)) (0.4.6)\n",
      "Requirement already satisfied: markdown>=2.6.8 in /apps/miniconda3/envs/pytorch/lib/python3.10/site-packages (from tensorboard->-r requirements.txt (line 9)) (3.5.1)\n",
      "Requirement already satisfied: protobuf>=3.9.2 in /apps/miniconda3/envs/pytorch/lib/python3.10/site-packages (from tensorboard->-r requirements.txt (line 9)) (3.20.0)\n",
      "Requirement already satisfied: tensorboard-data-server<0.7.0,>=0.6.0 in /apps/miniconda3/envs/pytorch/lib/python3.10/site-packages (from tensorboard->-r requirements.txt (line 9)) (0.6.1)\n",
      "Requirement already satisfied: tensorboard-plugin-wit>=1.6.0 in /apps/miniconda3/envs/pytorch/lib/python3.10/site-packages (from tensorboard->-r requirements.txt (line 9)) (1.8.1)\n",
      "Requirement already satisfied: werkzeug>=1.0.1 in /apps/miniconda3/envs/pytorch/lib/python3.10/site-packages (from tensorboard->-r requirements.txt (line 9)) (2.1.2)\n",
      "Requirement already satisfied: contourpy>=1.0.1 in /apps/miniconda3/envs/pytorch/lib/python3.10/site-packages (from matplotlib->-r requirements.txt (line 10)) (1.1.1)\n",
      "Requirement already satisfied: cycler>=0.10 in /apps/miniconda3/envs/pytorch/lib/python3.10/site-packages (from matplotlib->-r requirements.txt (line 10)) (0.12.1)\n",
      "Requirement already satisfied: fonttools>=4.22.0 in /apps/miniconda3/envs/pytorch/lib/python3.10/site-packages (from matplotlib->-r requirements.txt (line 10)) (4.43.1)\n",
      "Requirement already satisfied: kiwisolver>=1.3.1 in /apps/miniconda3/envs/pytorch/lib/python3.10/site-packages (from matplotlib->-r requirements.txt (line 10)) (1.4.5)\n",
      "Requirement already satisfied: pyparsing>=2.3.1 in /apps/miniconda3/envs/pytorch/lib/python3.10/site-packages (from matplotlib->-r requirements.txt (line 10)) (3.0.9)\n",
      "Requirement already satisfied: python-dateutil>=2.7 in /apps/miniconda3/envs/pytorch/lib/python3.10/site-packages (from matplotlib->-r requirements.txt (line 10)) (2.8.2)\n",
      "Requirement already satisfied: cachetools<6.0,>=2.0.0 in /apps/miniconda3/envs/pytorch/lib/python3.10/site-packages (from google-auth<3,>=1.6.3->tensorboard->-r requirements.txt (line 9)) (5.3.2)\n",
      "Requirement already satisfied: pyasn1-modules>=0.2.1 in /apps/miniconda3/envs/pytorch/lib/python3.10/site-packages (from google-auth<3,>=1.6.3->tensorboard->-r requirements.txt (line 9)) (0.3.0)\n",
      "Requirement already satisfied: rsa<5,>=3.1.4 in /apps/miniconda3/envs/pytorch/lib/python3.10/site-packages (from google-auth<3,>=1.6.3->tensorboard->-r requirements.txt (line 9)) (4.9)\n",
      "Requirement already satisfied: requests-oauthlib>=0.7.0 in /apps/miniconda3/envs/pytorch/lib/python3.10/site-packages (from google-auth-oauthlib<0.5,>=0.4.1->tensorboard->-r requirements.txt (line 9)) (1.3.1)\n",
      "Requirement already satisfied: fsspec>=2023.5.0 in /apps/miniconda3/envs/pytorch/lib/python3.10/site-packages (from huggingface-hub<1.0,>=0.15.1->transformers==4.32.0->-r requirements.txt (line 1)) (2023.10.0)\n",
      "Requirement already satisfied: six>=1.5 in /apps/miniconda3/envs/pytorch/lib/python3.10/site-packages (from python-dateutil>=2.7->matplotlib->-r requirements.txt (line 10)) (1.16.0)\n",
      "Requirement already satisfied: charset-normalizer<4,>=2 in /apps/miniconda3/envs/pytorch/lib/python3.10/site-packages (from requests->transformers==4.32.0->-r requirements.txt (line 1)) (2.0.12)\n",
      "Requirement already satisfied: idna<4,>=2.5 in /apps/miniconda3/envs/pytorch/lib/python3.10/site-packages (from requests->transformers==4.32.0->-r requirements.txt (line 1)) (3.3)\n",
      "Requirement already satisfied: urllib3<3,>=1.21.1 in /hpc2hdd/home/yliu364/.local/lib/python3.10/site-packages (from requests->transformers==4.32.0->-r requirements.txt (line 1)) (2.2.1)\n",
      "Requirement already satisfied: certifi>=2017.4.17 in /apps/miniconda3/envs/pytorch/lib/python3.10/site-packages (from requests->transformers==4.32.0->-r requirements.txt (line 1)) (2022.6.15)\n",
      "Requirement already satisfied: pyasn1<0.6.0,>=0.4.6 in /apps/miniconda3/envs/pytorch/lib/python3.10/site-packages (from pyasn1-modules>=0.2.1->google-auth<3,>=1.6.3->tensorboard->-r requirements.txt (line 9)) (0.5.0)\n",
      "Requirement already satisfied: oauthlib>=3.0.0 in /apps/miniconda3/envs/pytorch/lib/python3.10/site-packages (from requests-oauthlib>=0.7.0->google-auth-oauthlib<0.5,>=0.4.1->tensorboard->-r requirements.txt (line 9)) (3.2.0)\n",
      "Requirement already satisfied: MarkupSafe>=2.0 in /apps/miniconda3/envs/pytorch/lib/python3.10/site-packages (from jinja2->torch>=1.10.0->accelerate->-r requirements.txt (line 2)) (2.1.3)\n",
      "Requirement already satisfied: mpmath>=0.19 in /apps/miniconda3/envs/pytorch/lib/python3.10/site-packages (from sympy->torch>=1.10.0->accelerate->-r requirements.txt (line 2)) (1.3.0)\n"
     ]
    }
   ],
   "source": [
    "%cd /hpc2hdd/home/yliu364/Qwen-VL\n",
    "!pip install -r requirements.txt"
   ]
  },
  {
   "cell_type": "code",
   "execution_count": 2,
   "metadata": {},
   "outputs": [
    {
     "name": "stdout",
     "output_type": "stream",
     "text": [
      "Defaulting to user installation because normal site-packages is not writeable\n",
      "Requirement already satisfied: deepspeed in /hpc2hdd/home/yliu364/.local/lib/python3.10/site-packages (0.14.2)\n",
      "Requirement already satisfied: peft in /hpc2hdd/home/yliu364/.local/lib/python3.10/site-packages (0.10.0)\n",
      "Requirement already satisfied: einops_exts in /hpc2hdd/home/yliu364/.local/lib/python3.10/site-packages (0.0.4)\n",
      "Requirement already satisfied: hjson in /hpc2hdd/home/yliu364/.local/lib/python3.10/site-packages (from deepspeed) (3.1.0)\n",
      "Requirement already satisfied: ninja in /hpc2hdd/home/yliu364/.local/lib/python3.10/site-packages (from deepspeed) (1.11.1.1)\n",
      "Requirement already satisfied: numpy in /apps/miniconda3/envs/pytorch/lib/python3.10/site-packages (from deepspeed) (1.22.4)\n",
      "Requirement already satisfied: packaging>=20.0 in /apps/miniconda3/envs/pytorch/lib/python3.10/site-packages (from deepspeed) (21.3)\n",
      "Requirement already satisfied: psutil in /apps/miniconda3/envs/pytorch/lib/python3.10/site-packages (from deepspeed) (5.9.6)\n",
      "Requirement already satisfied: py-cpuinfo in /hpc2hdd/home/yliu364/.local/lib/python3.10/site-packages (from deepspeed) (9.0.0)\n",
      "Requirement already satisfied: pydantic in /hpc2hdd/home/yliu364/.local/lib/python3.10/site-packages (from deepspeed) (2.7.1)\n",
      "Requirement already satisfied: pynvml in /hpc2hdd/home/yliu364/.local/lib/python3.10/site-packages (from deepspeed) (11.5.0)\n",
      "Requirement already satisfied: torch in /hpc2hdd/home/yliu364/.local/lib/python3.10/site-packages (from deepspeed) (2.0.1)\n",
      "Requirement already satisfied: tqdm in /apps/miniconda3/envs/pytorch/lib/python3.10/site-packages (from deepspeed) (4.66.1)\n",
      "Requirement already satisfied: pyyaml in /apps/miniconda3/envs/pytorch/lib/python3.10/site-packages (from peft) (6.0.1)\n",
      "Requirement already satisfied: transformers in /hpc2hdd/home/yliu364/.local/lib/python3.10/site-packages (from peft) (4.32.0)\n",
      "Requirement already satisfied: accelerate>=0.21.0 in /hpc2hdd/home/yliu364/.local/lib/python3.10/site-packages (from peft) (0.29.3)\n",
      "Requirement already satisfied: safetensors in /hpc2hdd/home/yliu364/.local/lib/python3.10/site-packages (from peft) (0.4.3)\n",
      "Requirement already satisfied: huggingface-hub>=0.17.0 in /hpc2hdd/home/yliu364/.local/lib/python3.10/site-packages (from peft) (0.22.2)\n",
      "Requirement already satisfied: einops>=0.4 in /hpc2hdd/home/yliu364/.local/lib/python3.10/site-packages (from einops_exts) (0.7.0)\n",
      "Requirement already satisfied: filelock in /apps/miniconda3/envs/pytorch/lib/python3.10/site-packages (from huggingface-hub>=0.17.0->peft) (3.13.1)\n",
      "Requirement already satisfied: fsspec>=2023.5.0 in /apps/miniconda3/envs/pytorch/lib/python3.10/site-packages (from huggingface-hub>=0.17.0->peft) (2023.10.0)\n",
      "Requirement already satisfied: requests in /hpc2hdd/home/yliu364/.local/lib/python3.10/site-packages (from huggingface-hub>=0.17.0->peft) (2.31.0)\n",
      "Requirement already satisfied: typing-extensions>=3.7.4.3 in /hpc2hdd/home/yliu364/.local/lib/python3.10/site-packages (from huggingface-hub>=0.17.0->peft) (4.11.0)\n",
      "Requirement already satisfied: pyparsing!=3.0.5,>=2.0.2 in /apps/miniconda3/envs/pytorch/lib/python3.10/site-packages (from packaging>=20.0->deepspeed) (3.0.9)\n",
      "Requirement already satisfied: sympy in /apps/miniconda3/envs/pytorch/lib/python3.10/site-packages (from torch->deepspeed) (1.12)\n",
      "Requirement already satisfied: networkx in /apps/miniconda3/envs/pytorch/lib/python3.10/site-packages (from torch->deepspeed) (3.2.1)\n",
      "Requirement already satisfied: jinja2 in /apps/miniconda3/envs/pytorch/lib/python3.10/site-packages (from torch->deepspeed) (3.1.2)\n",
      "Requirement already satisfied: nvidia-cuda-nvrtc-cu11==11.7.99 in /hpc2hdd/home/yliu364/.local/lib/python3.10/site-packages (from torch->deepspeed) (11.7.99)\n",
      "Requirement already satisfied: nvidia-cuda-runtime-cu11==11.7.99 in /hpc2hdd/home/yliu364/.local/lib/python3.10/site-packages (from torch->deepspeed) (11.7.99)\n",
      "Requirement already satisfied: nvidia-cuda-cupti-cu11==11.7.101 in /hpc2hdd/home/yliu364/.local/lib/python3.10/site-packages (from torch->deepspeed) (11.7.101)\n",
      "Requirement already satisfied: nvidia-cudnn-cu11==8.5.0.96 in /hpc2hdd/home/yliu364/.local/lib/python3.10/site-packages (from torch->deepspeed) (8.5.0.96)\n",
      "Requirement already satisfied: nvidia-cublas-cu11==11.10.3.66 in /hpc2hdd/home/yliu364/.local/lib/python3.10/site-packages (from torch->deepspeed) (11.10.3.66)\n",
      "Requirement already satisfied: nvidia-cufft-cu11==10.9.0.58 in /hpc2hdd/home/yliu364/.local/lib/python3.10/site-packages (from torch->deepspeed) (10.9.0.58)\n",
      "Requirement already satisfied: nvidia-curand-cu11==10.2.10.91 in /hpc2hdd/home/yliu364/.local/lib/python3.10/site-packages (from torch->deepspeed) (10.2.10.91)\n",
      "Requirement already satisfied: nvidia-cusolver-cu11==11.4.0.1 in /hpc2hdd/home/yliu364/.local/lib/python3.10/site-packages (from torch->deepspeed) (11.4.0.1)\n",
      "Requirement already satisfied: nvidia-cusparse-cu11==11.7.4.91 in /hpc2hdd/home/yliu364/.local/lib/python3.10/site-packages (from torch->deepspeed) (11.7.4.91)\n",
      "Requirement already satisfied: nvidia-nccl-cu11==2.14.3 in /hpc2hdd/home/yliu364/.local/lib/python3.10/site-packages (from torch->deepspeed) (2.14.3)\n",
      "Requirement already satisfied: nvidia-nvtx-cu11==11.7.91 in /hpc2hdd/home/yliu364/.local/lib/python3.10/site-packages (from torch->deepspeed) (11.7.91)\n",
      "Requirement already satisfied: triton==2.0.0 in /hpc2hdd/home/yliu364/.local/lib/python3.10/site-packages (from torch->deepspeed) (2.0.0)\n",
      "Requirement already satisfied: setuptools in /apps/miniconda3/envs/pytorch/lib/python3.10/site-packages (from nvidia-cublas-cu11==11.10.3.66->torch->deepspeed) (58.0.4)\n",
      "Requirement already satisfied: wheel in /apps/miniconda3/envs/pytorch/lib/python3.10/site-packages (from nvidia-cublas-cu11==11.10.3.66->torch->deepspeed) (0.41.2)\n",
      "Requirement already satisfied: cmake in /hpc2hdd/home/yliu364/.local/lib/python3.10/site-packages (from triton==2.0.0->torch->deepspeed) (3.29.2)\n",
      "Requirement already satisfied: lit in /hpc2hdd/home/yliu364/.local/lib/python3.10/site-packages (from triton==2.0.0->torch->deepspeed) (18.1.4)\n",
      "Requirement already satisfied: annotated-types>=0.4.0 in /hpc2hdd/home/yliu364/.local/lib/python3.10/site-packages (from pydantic->deepspeed) (0.6.0)\n",
      "Requirement already satisfied: pydantic-core==2.18.2 in /hpc2hdd/home/yliu364/.local/lib/python3.10/site-packages (from pydantic->deepspeed) (2.18.2)\n",
      "Requirement already satisfied: regex!=2019.12.17 in /hpc2hdd/home/yliu364/.local/lib/python3.10/site-packages (from transformers->peft) (2024.4.16)\n",
      "Requirement already satisfied: tokenizers!=0.11.3,<0.14,>=0.11.1 in /hpc2hdd/home/yliu364/.local/lib/python3.10/site-packages (from transformers->peft) (0.13.3)\n",
      "Requirement already satisfied: MarkupSafe>=2.0 in /apps/miniconda3/envs/pytorch/lib/python3.10/site-packages (from jinja2->torch->deepspeed) (2.1.3)\n",
      "Requirement already satisfied: charset-normalizer<4,>=2 in /apps/miniconda3/envs/pytorch/lib/python3.10/site-packages (from requests->huggingface-hub>=0.17.0->peft) (2.0.12)\n",
      "Requirement already satisfied: idna<4,>=2.5 in /apps/miniconda3/envs/pytorch/lib/python3.10/site-packages (from requests->huggingface-hub>=0.17.0->peft) (3.3)\n",
      "Requirement already satisfied: urllib3<3,>=1.21.1 in /hpc2hdd/home/yliu364/.local/lib/python3.10/site-packages (from requests->huggingface-hub>=0.17.0->peft) (2.2.1)\n",
      "Requirement already satisfied: certifi>=2017.4.17 in /apps/miniconda3/envs/pytorch/lib/python3.10/site-packages (from requests->huggingface-hub>=0.17.0->peft) (2022.6.15)\n",
      "Requirement already satisfied: mpmath>=0.19 in /apps/miniconda3/envs/pytorch/lib/python3.10/site-packages (from sympy->torch->deepspeed) (1.3.0)\n"
     ]
    }
   ],
   "source": [
    "!pip install deepspeed peft einops_exts"
   ]
  },
  {
   "cell_type": "code",
   "execution_count": 8,
   "metadata": {},
   "outputs": [
    {
     "name": "stderr",
     "output_type": "stream",
     "text": [
      "The model is automatically converting to bf16 for faster inference. If you want to disable the automatic precision, please manually add bf16/fp16/fp32=True to \"AutoModelForCausalLM.from_pretrained\".\n",
      "Loading checkpoint shards: 100%|██████████| 10/10 [00:16<00:00,  1.61s/it]\n"
     ]
    },
    {
     "name": "stdout",
     "output_type": "stream",
     "text": [
      "<ref> Search icon</ref><box>(312,100),(449,183)</box>\n"
     ]
    }
   ],
   "source": [
    "from transformers import AutoModelForCausalLM, AutoTokenizer\n",
    "from transformers.generation import GenerationConfig\n",
    "import torch\n",
    "torch.manual_seed(1234)\n",
    "tokenizer = AutoTokenizer.from_pretrained(\"Qwen/Qwen-VL-Chat\", trust_remote_code=True)\n",
    "model = AutoModelForCausalLM.from_pretrained(\"Qwen/Qwen-VL-Chat\", device_map=\"cuda\", trust_remote_code=True).eval()\n",
    "\n",
    "# query = tokenizer.from_list_format([\n",
    "#     {'image': image_path}, # Either a local path or an url\n",
    "#     {'text': 'What is it?'},\n",
    "# ])\n",
    "\n"
   ]
  },
  {
   "cell_type": "code",
   "execution_count": 31,
   "metadata": {},
   "outputs": [
    {
     "name": "stdout",
     "output_type": "stream",
     "text": [
      "<ref> Search icon</ref><box>(851,496),(933,538)</box>\n"
     ]
    }
   ],
   "source": [
    "image_path = '/hpc2hdd/home/yliu364/3.jpg'\n",
    "response, history = model.chat(tokenizer, query=f'<img>{image_path}</img>Please give me the coordinates of \"Search icon\"', history=None)\n",
    "print(response)\n",
    "\n",
    "image = tokenizer.draw_bbox_on_latest_picture(response, history)\n",
    "if image:\n",
    "  image.save('output_2.jpg')\n",
    "else:\n",
    "  print(\"no box\")"
   ]
  },
  {
   "cell_type": "code",
   "execution_count": 7,
   "metadata": {},
   "outputs": [
    {
     "name": "stderr",
     "output_type": "stream",
     "text": [
      "The model is automatically converting to bf16 for faster inference. If you want to disable the automatic precision, please manually add bf16/fp16/fp32=True to \"AutoModelForCausalLM.from_pretrained\".\n",
      "Loading checkpoint shards: 100%|██████████| 10/10 [00:17<00:00,  1.72s/it]\n",
      "You are resizing the embedding layer without providing a `pad_to_multiple_of` parameter. This means that the new embeding dimension will be 151860. This might induce some performance reduction as *Tensor Cores* will not be available. For more details  about this, or help on choosing the correct value for resizing, refer to this guide: https://docs.nvidia.com/deeplearning/performance/dl-performance-matrix-multiplication/index.html#requirements-tc\n"
     ]
    }
   ],
   "source": [
    "from peft import AutoPeftModelForCausalLM\n",
    "from transformers.generation import GenerationConfig\n",
    "import torch\n",
    "model_rico = AutoPeftModelForCausalLM.from_pretrained(\n",
    "    \"/hpc2hdd/home/yliu364/Qwen-VL/output_qwen_chat/checkpoint-400\", # path to the output directory\n",
    "    device_map=\"auto\",\n",
    "    trust_remote_code=True\n",
    ").eval()"
   ]
  },
  {
   "cell_type": "code",
   "execution_count": 26,
   "metadata": {},
   "outputs": [
    {
     "name": "stdout",
     "output_type": "stream",
     "text": [
      "<ref> Search icon</ref><box>(852,495),(941,538)</box>\n"
     ]
    }
   ],
   "source": [
    "from transformers import AutoTokenizer\n",
    "tokenizer_rico = AutoTokenizer.from_pretrained(\"/hpc2hdd/home/yliu364/Qwen-VL/output_qwen_chat/checkpoint-400\", trust_remote_code=True)\n",
    "image_path = '/hpc2hdd/home/yliu364/3.jpg'\n",
    "response, history = model_rico.chat(tokenizer, query=f'<img>{image_path}</img>Please give me the coordinates of \"Search icon\"', history=None)\n",
    "print(response)"
   ]
  },
  {
   "cell_type": "code",
   "execution_count": 27,
   "metadata": {},
   "outputs": [],
   "source": [
    "image = tokenizer.draw_bbox_on_latest_picture(response, history)\n",
    "if image:\n",
    "  image.save('output_rico_2.jpg')\n",
    "else:\n",
    "  print(\"no box\")"
   ]
  }
 ],
 "metadata": {
  "kernelspec": {
   "display_name": "Python 3.10.13 ('pytorch')",
   "language": "python",
   "name": "python3"
  },
  "language_info": {
   "codemirror_mode": {
    "name": "ipython",
    "version": 3
   },
   "file_extension": ".py",
   "mimetype": "text/x-python",
   "name": "python",
   "nbconvert_exporter": "python",
   "pygments_lexer": "ipython3",
   "version": "3.10.13"
  },
  "orig_nbformat": 4,
  "vscode": {
   "interpreter": {
    "hash": "b2a38706d157236e441dfac603b5fcb19ce8f393da6935a7dfb95be9e2b1b522"
   }
  }
 },
 "nbformat": 4,
 "nbformat_minor": 2
}
