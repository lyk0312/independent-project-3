{
 "cells": [
  {
   "cell_type": "code",
   "execution_count": 1,
   "id": "36b45f8f-450a-48c0-ad9e-7749214b8d8c",
   "metadata": {},
   "outputs": [
    {
     "name": "stdout",
     "output_type": "stream",
     "text": [
      "Defaulting to user installation because normal site-packages is not writeable\n",
      "Looking in indexes: https://pypi.tuna.tsinghua.edu.cn/simple\n",
      "Requirement already satisfied: datasets in ./.local/lib/python3.10/site-packages (2.19.1)\n",
      "Requirement already satisfied: filelock in /apps/miniconda3/envs/pytorch/lib/python3.10/site-packages (from datasets) (3.13.1)\n",
      "Requirement already satisfied: numpy>=1.17 in /apps/miniconda3/envs/pytorch/lib/python3.10/site-packages (from datasets) (1.22.4)\n",
      "Requirement already satisfied: pyarrow>=12.0.0 in ./.local/lib/python3.10/site-packages (from datasets) (16.1.0)\n",
      "Requirement already satisfied: pyarrow-hotfix in ./.local/lib/python3.10/site-packages (from datasets) (0.6)\n",
      "Requirement already satisfied: dill<0.3.9,>=0.3.0 in ./.local/lib/python3.10/site-packages (from datasets) (0.3.8)\n",
      "Requirement already satisfied: pandas in /apps/miniconda3/envs/pytorch/lib/python3.10/site-packages (from datasets) (2.1.2)\n",
      "Requirement already satisfied: requests>=2.19.0 in ./.local/lib/python3.10/site-packages (from datasets) (2.31.0)\n",
      "Requirement already satisfied: tqdm>=4.62.1 in /apps/miniconda3/envs/pytorch/lib/python3.10/site-packages (from datasets) (4.66.1)\n",
      "Requirement already satisfied: xxhash in ./.local/lib/python3.10/site-packages (from datasets) (3.4.1)\n",
      "Requirement already satisfied: multiprocess in ./.local/lib/python3.10/site-packages (from datasets) (0.70.16)\n",
      "Requirement already satisfied: fsspec<=2024.3.1,>=2023.1.0 in /apps/miniconda3/envs/pytorch/lib/python3.10/site-packages (from fsspec[http]<=2024.3.1,>=2023.1.0->datasets) (2023.10.0)\n",
      "Requirement already satisfied: aiohttp in /apps/miniconda3/envs/pytorch/lib/python3.10/site-packages (from datasets) (3.8.6)\n",
      "Requirement already satisfied: huggingface-hub>=0.21.2 in ./.local/lib/python3.10/site-packages (from datasets) (0.22.2)\n",
      "Requirement already satisfied: packaging in /apps/miniconda3/envs/pytorch/lib/python3.10/site-packages (from datasets) (21.3)\n",
      "Requirement already satisfied: pyyaml>=5.1 in /apps/miniconda3/envs/pytorch/lib/python3.10/site-packages (from datasets) (6.0.1)\n",
      "Requirement already satisfied: attrs>=17.3.0 in /apps/miniconda3/envs/pytorch/lib/python3.10/site-packages (from aiohttp->datasets) (23.1.0)\n",
      "Requirement already satisfied: charset-normalizer<4.0,>=2.0 in /apps/miniconda3/envs/pytorch/lib/python3.10/site-packages (from aiohttp->datasets) (2.0.12)\n",
      "Requirement already satisfied: multidict<7.0,>=4.5 in /apps/miniconda3/envs/pytorch/lib/python3.10/site-packages (from aiohttp->datasets) (6.0.4)\n",
      "Requirement already satisfied: async-timeout<5.0,>=4.0.0a3 in /apps/miniconda3/envs/pytorch/lib/python3.10/site-packages (from aiohttp->datasets) (4.0.3)\n",
      "Requirement already satisfied: yarl<2.0,>=1.0 in /apps/miniconda3/envs/pytorch/lib/python3.10/site-packages (from aiohttp->datasets) (1.9.2)\n",
      "Requirement already satisfied: frozenlist>=1.1.1 in /apps/miniconda3/envs/pytorch/lib/python3.10/site-packages (from aiohttp->datasets) (1.4.0)\n",
      "Requirement already satisfied: aiosignal>=1.1.2 in /apps/miniconda3/envs/pytorch/lib/python3.10/site-packages (from aiohttp->datasets) (1.3.1)\n",
      "Requirement already satisfied: typing-extensions>=3.7.4.3 in ./.local/lib/python3.10/site-packages (from huggingface-hub>=0.21.2->datasets) (4.11.0)\n",
      "Requirement already satisfied: pyparsing!=3.0.5,>=2.0.2 in /apps/miniconda3/envs/pytorch/lib/python3.10/site-packages (from packaging->datasets) (3.0.9)\n",
      "Requirement already satisfied: idna<4,>=2.5 in /apps/miniconda3/envs/pytorch/lib/python3.10/site-packages (from requests>=2.19.0->datasets) (3.3)\n",
      "Requirement already satisfied: urllib3<3,>=1.21.1 in ./.local/lib/python3.10/site-packages (from requests>=2.19.0->datasets) (2.2.1)\n",
      "Requirement already satisfied: certifi>=2017.4.17 in /apps/miniconda3/envs/pytorch/lib/python3.10/site-packages (from requests>=2.19.0->datasets) (2022.6.15)\n",
      "Requirement already satisfied: python-dateutil>=2.8.2 in /apps/miniconda3/envs/pytorch/lib/python3.10/site-packages (from pandas->datasets) (2.8.2)\n",
      "Requirement already satisfied: pytz>=2020.1 in /apps/miniconda3/envs/pytorch/lib/python3.10/site-packages (from pandas->datasets) (2022.1)\n",
      "Requirement already satisfied: tzdata>=2022.1 in /apps/miniconda3/envs/pytorch/lib/python3.10/site-packages (from pandas->datasets) (2023.3)\n",
      "Requirement already satisfied: six>=1.5 in /apps/miniconda3/envs/pytorch/lib/python3.10/site-packages (from python-dateutil>=2.8.2->pandas->datasets) (1.16.0)\n"
     ]
    }
   ],
   "source": [
    "!pip install datasets -i https://pypi.tuna.tsinghua.edu.cn/simple"
   ]
  },
  {
   "cell_type": "code",
   "execution_count": 2,
   "id": "0daf5686-024c-461f-90e6-1ab684041fae",
   "metadata": {},
   "outputs": [
    {
     "name": "stderr",
     "output_type": "stream",
     "text": [
      "/apps/miniconda3/envs/pytorch/lib/python3.10/site-packages/tqdm/auto.py:21: TqdmWarning: IProgress not found. Please update jupyter and ipywidgets. See https://ipywidgets.readthedocs.io/en/stable/user_install.html\n",
      "  from .autonotebook import tqdm as notebook_tqdm\n"
     ]
    }
   ],
   "source": [
    "from datasets import load_dataset\n",
    "\n",
    "dataset = load_dataset(\"rootsautomation/RICO-ScreenAnnotation-f\")"
   ]
  },
  {
   "cell_type": "code",
   "execution_count": 7,
   "id": "a1b7bdaa-b0d2-4f85-b8ef-ef26ff58256d",
   "metadata": {},
   "outputs": [],
   "source": [
    "from PIL import Image\n",
    "import os\n",
    "i=0\n",
    "for data in dataset['train']:\n",
    "    # 创建目录（如果不存在）\n",
    "    save_path = '/hpc2hdd/home/yliu364/Qwen-VL/' + data['file_name']\n",
    "    os.makedirs(os.path.dirname(save_path), exist_ok=True)\n",
    "\n",
    "    # 保存图片到特定文件中，以'file_name'命名\n",
    "    data['image'].save(save_path)\n",
    "    i=i+1"
   ]
  },
  {
   "cell_type": "code",
   "execution_count": 55,
   "id": "0fa0a906",
   "metadata": {},
   "outputs": [
    {
     "data": {
      "text/plain": [
       "str"
      ]
     },
     "execution_count": 55,
     "metadata": {},
     "output_type": "execute_result"
    }
   ],
   "source": [
    "type(dataset['train'][0]['screen_annotation'])"
   ]
  },
  {
   "cell_type": "code",
   "execution_count": 3,
   "id": "7feb7aae",
   "metadata": {},
   "outputs": [],
   "source": [
    "import re\n",
    "import json\n",
    "\n",
    "def process_annotation(annotation):\n",
    "    # 正则表达式匹配括号中的内容\n",
    "    cleaned_annotation = re.sub(r'\\([^()]*\\)', '', annotation)\n",
    "    pattern = r'(\\w+(\\s+\\w+)*)\\s*\\[([^\\[\\]]*)\\]'\n",
    "    matches = re.findall(pattern, cleaned_annotation)\n",
    "\n",
    "    processed_annotations = []\n",
    "    for match in matches:\n",
    "        # 提取图标和参数值\n",
    "        icon = match[0]\n",
    "        params = match[2].split()\n",
    "        try:\n",
    "            x1, y1, x2, y2 = map(float, params[:4])\n",
    "            x1 = x1*1000\n",
    "            x2 = x2*1000\n",
    "            y1 = y1*1000\n",
    "            y2 = y2*1000\n",
    "        except ValueError:\n",
    "            # 如果无法转换为浮点数，跳过当前注释\n",
    "            continue\n",
    "        # 构建输出格式\n",
    "        processed_annotations.append({\n",
    "            \"icon\": icon,\n",
    "            \"para\": f\"<box>({x1:.2f},{y1:.2f}),( {x2:.2f},{y2:.2f})</box>\"\n",
    "        })\n",
    "\n",
    "    return processed_annotations"
   ]
  },
  {
   "cell_type": "code",
   "execution_count": 59,
   "id": "d7d6c2d7",
   "metadata": {},
   "outputs": [
    {
     "data": {
      "text/plain": [
       "{'screen_id': '39382',\n",
       " 'screen_annotation': 'TEXT Currency code [0.08 0.92 0.08 0.11], LIST_ITEM [0.05 0.96 0.12 0.18] (RADIO_BUTTON [0.09 0.16 0.13 0.17], LABEL USD [0.21 0.31 0.13 0.16]), LIST_ITEM [0.04 0.96 0.18 0.25] (RADIO_BUTTON [0.10 0.16 0.20 0.23], LABEL UYU [0.20 0.31 0.20 0.23]), LIST_ITEM [0.04 0.96 0.25 0.31] (RADIO_BUTTON [0.10 0.16 0.26 0.30], LABEL UZS [0.20 0.30 0.26 0.29]), LIST_ITEM [0.04 0.96 0.31 0.38] (RADIO_BUTTON [0.10 0.16 0.33 0.36], LABEL VEB [0.21 0.30 0.33 0.36]), LIST_ITEM [0.04 0.96 0.38 0.44] (RADIO_BUTTON [0.10 0.16 0.39 0.43], LABEL VND [0.21 0.31 0.40 0.43]), LIST_ITEM [0.04 0.96 0.44 0.51] (RADIO_BUTTON [0.10 0.16 0.46 0.49], LABEL VUV [0.21 0.31 0.46 0.49]), LIST_ITEM [0.04 0.96 0.51 0.57] (RADIO_BUTTON [0.10 0.16 0.52 0.56], LABEL WST [0.21 0.31 0.53 0.56]), LIST_ITEM [0.04 0.96 0.58 0.64] (RADIO_BUTTON [0.10 0.16 0.59 0.62], LABEL XAF [0.20 0.30 0.59 0.62]), LIST_ITEM [0.04 0.96 0.64 0.70] (RADIO_BUTTON [0.10 0.16 0.66 0.69], LABEL XCD [0.20 0.31 0.66 0.69]), LIST_ITEM [0.04 0.96 0.71 0.77] (RADIO_BUTTON [0.10 0.16 0.72 0.76], LABEL XOF [0.20 0.30 0.73 0.75]), LIST_ITEM [0.04 0.96 0.77 0.84] (RADIO_BUTTON [0.10 0.16 0.79 0.82], LABEL XPF [0.20 0.30 0.79 0.82]), LIST_ITEM [0.05 0.96 0.84 0.90] (RADIO_BUTTON [0.10 0.16 0.85 0.89], LABEL YER [0.21 0.30 0.86 0.89])',\n",
       " 'file_name': 'images/rico/39382.jpg',\n",
       " 'image': <PIL.JpegImagePlugin.JpegImageFile image mode=RGB size=1080x1920>}"
      ]
     },
     "execution_count": 59,
     "metadata": {},
     "output_type": "execute_result"
    }
   ],
   "source": [
    "dataset['train'][0]"
   ]
  },
  {
   "cell_type": "code",
   "execution_count": 5,
   "id": "c7c1c7d2",
   "metadata": {},
   "outputs": [],
   "source": [
    "new_json_data = []\n",
    "for data in dataset['train']:\n",
    "  # try:\n",
    "    screen_id = data['screen_id']\n",
    "    screen_annotation = data['screen_annotation']\n",
    "    file_name = data['file_name']\n",
    "\n",
    "    processed_annotations = process_annotation(screen_annotation)\n",
    "\n",
    "    conversations = []\n",
    "    for i in range(0, len(processed_annotations), 3):\n",
    "        for annotation in processed_annotations[i:i+3]:\n",
    "            icon = annotation['icon']\n",
    "            para = annotation['para']\n",
    "\n",
    "            # 添加用户对话\n",
    "            user_dialog = {\n",
    "              \"from\": \"user\",\n",
    "              \"value\": f\"Picture: <img>{file_name}</img>\\n Give the relative coordinates of {icon} with respect to the image\"\n",
    "            }\n",
    "            conversations.append(user_dialog)\n",
    "\n",
    "            # 添加助手对话\n",
    "            assistant_dialog = {\n",
    "              \"from\": \"assistant\",\n",
    "              \"value\": para\n",
    "            }\n",
    "            conversations.append(assistant_dialog)\n",
    "        if len(conversations) >= 6:\n",
    "            break\n",
    "\n",
    "    # 构建新的数据项\n",
    "    new_data = {\n",
    "        \"id\": screen_id,\n",
    "        \"conversations\": conversations\n",
    "    }\n",
    "    new_json_data.append(new_data)\n",
    "  # except TypeError:\n",
    "  #   continue"
   ]
  },
  {
   "cell_type": "code",
   "execution_count": 6,
   "id": "fabc3a7d",
   "metadata": {},
   "outputs": [
    {
     "data": {
      "text/plain": [
       "15548"
      ]
     },
     "execution_count": 6,
     "metadata": {},
     "output_type": "execute_result"
    }
   ],
   "source": [
    "len(new_json_data)"
   ]
  },
  {
   "cell_type": "code",
   "execution_count": 7,
   "id": "a2bd3ca8",
   "metadata": {},
   "outputs": [],
   "source": [
    "new_json_data_3000 = new_json_data[:3050]"
   ]
  },
  {
   "cell_type": "code",
   "execution_count": 8,
   "id": "551a8834",
   "metadata": {},
   "outputs": [],
   "source": [
    "items_to_remove = list(range(13, 17)) + list(range(364, 369))\n",
    "new_json_data_3000 = [item for i, item in enumerate(new_json_data_3000) if i not in items_to_remove]"
   ]
  },
  {
   "cell_type": "code",
   "execution_count": 10,
   "id": "a870df7a",
   "metadata": {},
   "outputs": [],
   "source": [
    "import json\n",
    "with open('/hpc2hdd/home/yliu364/Qwen-VL/new_data_500.json', 'w') as f:\n",
    "    # 序列化数据并写入文件\n",
    "    json.dump(new_json_data_3000, f)  # 使用indent参数使输出的JSON更易读"
   ]
  },
  {
   "cell_type": "code",
   "execution_count": 65,
   "id": "33d28338",
   "metadata": {},
   "outputs": [],
   "source": [
    "new_json_data_test = new_json_data[4550:5050]\n",
    "import json\n",
    "with open('/hpc2hdd/home/yliu364/Qwen-VL/new_data_test.json', 'w') as f:\n",
    "    # 序列化数据并写入文件\n",
    "    json.dump(new_json_data_test, f)  # 使用indent参数使输出的JSON更易读"
   ]
  }
 ],
 "metadata": {
  "kernelspec": {
   "display_name": "Python 3.10.13 ('pytorch')",
   "language": "python",
   "name": "python3"
  },
  "language_info": {
   "codemirror_mode": {
    "name": "ipython",
    "version": 3
   },
   "file_extension": ".py",
   "mimetype": "text/x-python",
   "name": "python",
   "nbconvert_exporter": "python",
   "pygments_lexer": "ipython3",
   "version": "3.10.13"
  },
  "vscode": {
   "interpreter": {
    "hash": "b2a38706d157236e441dfac603b5fcb19ce8f393da6935a7dfb95be9e2b1b522"
   }
  }
 },
 "nbformat": 4,
 "nbformat_minor": 5
}
